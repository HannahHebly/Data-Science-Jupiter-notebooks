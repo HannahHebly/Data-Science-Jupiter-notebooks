{
    "cells": [
        {
            "cell_type": "markdown",
            "metadata": {
                "collapsed": true
            },
            "source": "Data section\n\nTo solve this problem I will be using Foursquare data.\n\nThe latitude of Leiden, Netherlands is 52.160114, and the longitude is 4.497010. I will add search radius of 10 kilometres.\n\nI will use 'venue' data search option --> GET https://api.foursquare.com/v2/venues/search\nI might also have to particularly search in Venue categories --> GET https://api.foursquare.com/v2/venues/categories"
        }
    ],
    "metadata": {
        "kernelspec": {
            "display_name": "Python 3.7",
            "language": "python",
            "name": "python3"
        },
        "language_info": {
            "codemirror_mode": {
                "name": "ipython",
                "version": 3
            },
            "file_extension": ".py",
            "mimetype": "text/x-python",
            "name": "python",
            "nbconvert_exporter": "python",
            "pygments_lexer": "ipython3",
            "version": "3.7.9"
        }
    },
    "nbformat": 4,
    "nbformat_minor": 1
}