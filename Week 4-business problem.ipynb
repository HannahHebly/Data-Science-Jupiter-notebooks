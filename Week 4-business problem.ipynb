{
    "cells": [
        {
            "cell_type": "markdown",
            "metadata": {
                "collapsed": true
            },
            "source": "Introduction/Business Problem\n\n\nSo the problem is: It is unclear what neighborhood is best to live when you are a family with young children\n\nThe group of stakeholders that I will be solving this problem for is: families with young children who are looking to live in or nearby the Dutch city: Leiden.\n\nIf we look closer to the problem it is necessary to make some bold assumptions about the needs of this group. \nSay that they want at least the following facilities to exist within a distance of 1 kilometre of their home: \n- a day care location\n- a primary school\n- a supermarket\n- a park\n\nApart from this they value some peace and quiteness around, so they want to:\n- live at least 1 kilometer away from the 'center of any city'\n- and they do not want more than 3 cafes or bars to be within 500 meters of their home\n\n"
        }
    ],
    "metadata": {
        "kernelspec": {
            "display_name": "Python 3.7",
            "language": "python",
            "name": "python3"
        },
        "language_info": {
            "codemirror_mode": {
                "name": "ipython",
                "version": 3
            },
            "file_extension": ".py",
            "mimetype": "text/x-python",
            "name": "python",
            "nbconvert_exporter": "python",
            "pygments_lexer": "ipython3",
            "version": "3.7.9"
        }
    },
    "nbformat": 4,
    "nbformat_minor": 1
}